{
 "metadata": {
  "language_info": {
   "codemirror_mode": {
    "name": "ipython",
    "version": 3
   },
   "file_extension": ".py",
   "mimetype": "text/x-python",
   "name": "python",
   "nbconvert_exporter": "python",
   "pygments_lexer": "ipython3",
   "version": 3
  },
  "orig_nbformat": 2,
  "kernelspec": {
   "name": "python_defaultSpec_1595580195843",
   "display_name": "Python 3.7.3 64-bit"
  }
 },
 "nbformat": 4,
 "nbformat_minor": 2,
 "cells": [
  {
   "cell_type": "code",
   "execution_count": null,
   "metadata": {},
   "outputs": [],
   "source": [
    "import matplotlib.pyplot as plt\n",
    "import os"
   ]
  },
  {
   "cell_type": "code",
   "execution_count": null,
   "metadata": {},
   "outputs": [],
   "source": [
    "def plot(labels, data, title, label):\n",
    "    fig = plt.figure()\n",
    "    ax = fig.add_axes([0,0,1,1])\n",
    "    ax.set_ylabel(label)\n",
    "    ax.set_title(title)\n",
    "    ax.bar(labels, data)\n",
    "    \n",
    "def read_files(paths, labels):\n",
    "    load_time=[]\n",
    "    inference_time=[]\n",
    "    fps=[]\n",
    "    \n",
    "    for path in paths:\n",
    "        if os.path.isfile(path):\n",
    "            f=open(path, 'r')\n",
    "            load_time.append(float(f.readline()))\n",
    "            inference_time.append(float(f.readline()))\n",
    "            fps.append(float(f.readline()))\n",
    "\n",
    "    plot(labels, load_time, 'Model Load Time', 'seconds')\n",
    "    plot(labels, inference_time, 'Inference Time', 'seconds')\n",
    "    plot(labels, fps, 'Frames per Second', 'Frames')\n",
    "\n",
    "paths=['FP16.txt', 'FP32.txt', 'FP32-INT8.txt']\n",
    "read_files(paths, ['FP16', 'FP32', 'FP32-INT8'])"
   ]
  }
 ]
}